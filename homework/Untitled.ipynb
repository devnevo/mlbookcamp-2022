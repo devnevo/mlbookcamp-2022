{
 "cells": [
  {
   "cell_type": "code",
   "execution_count": 1,
   "id": "547327cf",
   "metadata": {},
   "outputs": [],
   "source": [
    "import numpy as np\n",
    "import pandas as pd\n",
    "import os"
   ]
  },
  {
   "cell_type": "markdown",
   "id": "2a1b983e",
   "metadata": {},
   "source": [
    "What's the version of NumPy that you installed?\n"
   ]
  },
  {
   "cell_type": "code",
   "execution_count": 8,
   "id": "9bebe0b3",
   "metadata": {},
   "outputs": [
    {
     "data": {
      "text/plain": [
       "'1.23.2'"
      ]
     },
     "execution_count": 8,
     "metadata": {},
     "output_type": "execute_result"
    }
   ],
   "source": [
    "np.__version__"
   ]
  },
  {
   "cell_type": "code",
   "execution_count": 9,
   "id": "88000ba0",
   "metadata": {},
   "outputs": [],
   "source": [
    "data_df = pd.read_csv('./car_price_data.csv')"
   ]
  },
  {
   "cell_type": "markdown",
   "id": "a5f75d80",
   "metadata": {},
   "source": [
    "Question 2: Number of records in the dataset\n"
   ]
  },
  {
   "cell_type": "code",
   "execution_count": 12,
   "id": "ae23deb4",
   "metadata": {},
   "outputs": [
    {
     "data": {
      "text/plain": [
       "11914"
      ]
     },
     "execution_count": 12,
     "metadata": {},
     "output_type": "execute_result"
    }
   ],
   "source": [
    "data_df.shape[0]"
   ]
  },
  {
   "cell_type": "code",
   "execution_count": 13,
   "id": "1859c27c",
   "metadata": {},
   "outputs": [
    {
     "data": {
      "text/plain": [
       "Index(['Make', 'Model', 'Year', 'Engine Fuel Type', 'Engine HP',\n",
       "       'Engine Cylinders', 'Transmission Type', 'Driven_Wheels',\n",
       "       'Number of Doors', 'Market Category', 'Vehicle Size', 'Vehicle Style',\n",
       "       'highway MPG', 'city mpg', 'Popularity', 'MSRP'],\n",
       "      dtype='object')"
      ]
     },
     "execution_count": 13,
     "metadata": {},
     "output_type": "execute_result"
    }
   ],
   "source": [
    "data_df.columns"
   ]
  },
  {
   "cell_type": "markdown",
   "id": "62e70b2f",
   "metadata": {},
   "source": [
    "Question 3: The most popular car manufacturers\n"
   ]
  },
  {
   "cell_type": "code",
   "execution_count": 37,
   "id": "598ebefc",
   "metadata": {},
   "outputs": [
    {
     "data": {
      "text/plain": [
       "Chevrolet     1123\n",
       "Ford           881\n",
       "Volkswagen     809\n",
       "Toyota         746\n",
       "Name: Make, dtype: int64"
      ]
     },
     "execution_count": 37,
     "metadata": {},
     "output_type": "execute_result"
    }
   ],
   "source": [
    "data_df.Make.value_counts()[:4]"
   ]
  },
  {
   "cell_type": "markdown",
   "id": "1938fb78",
   "metadata": {},
   "source": [
    "Question 4: Number of unique Audi car models\n"
   ]
  },
  {
   "cell_type": "code",
   "execution_count": 16,
   "id": "a4dd6ef0",
   "metadata": {},
   "outputs": [
    {
     "data": {
      "text/plain": [
       "34"
      ]
     },
     "execution_count": 16,
     "metadata": {},
     "output_type": "execute_result"
    }
   ],
   "source": [
    "data_df[data_df['Make'] == 'Audi'].Model.nunique()"
   ]
  },
  {
   "cell_type": "markdown",
   "id": "27d1d318",
   "metadata": {},
   "source": [
    "Question 5: Number of columns with missing values\n"
   ]
  },
  {
   "cell_type": "code",
   "execution_count": 24,
   "id": "9e4daaa5",
   "metadata": {},
   "outputs": [
    {
     "data": {
      "text/plain": [
       "Make                    0\n",
       "Model                   0\n",
       "Year                    0\n",
       "Engine Fuel Type        3\n",
       "Engine HP              69\n",
       "Engine Cylinders       30\n",
       "Transmission Type       0\n",
       "Driven_Wheels           0\n",
       "Number of Doors         6\n",
       "Market Category      3742\n",
       "Vehicle Size            0\n",
       "Vehicle Style           0\n",
       "highway MPG             0\n",
       "city mpg                0\n",
       "Popularity              0\n",
       "MSRP                    0\n",
       "dtype: int64"
      ]
     },
     "execution_count": 24,
     "metadata": {},
     "output_type": "execute_result"
    }
   ],
   "source": [
    "data_df.isna().sum() "
   ]
  },
  {
   "cell_type": "markdown",
   "id": "b2466d28",
   "metadata": {},
   "source": [
    "Question 6: Does the median value change after filling missing values?"
   ]
  },
  {
   "cell_type": "code",
   "execution_count": 40,
   "id": "35c260f7",
   "metadata": {},
   "outputs": [
    {
     "data": {
      "text/plain": [
       "6.0"
      ]
     },
     "execution_count": 40,
     "metadata": {},
     "output_type": "execute_result"
    }
   ],
   "source": [
    "data_df['Engine Cylinders'].median()"
   ]
  },
  {
   "cell_type": "code",
   "execution_count": 41,
   "id": "1c580d30",
   "metadata": {},
   "outputs": [
    {
     "data": {
      "text/plain": [
       "6.0"
      ]
     },
     "execution_count": 41,
     "metadata": {},
     "output_type": "execute_result"
    }
   ],
   "source": [
    "data_df['Engine Cylinders'].fillna(data_df['Engine Cylinders'].mode()[0]).median()"
   ]
  },
  {
   "cell_type": "markdown",
   "id": "b745b28b",
   "metadata": {},
   "source": [
    "Questions 7: Value of the first element of w\n"
   ]
  },
  {
   "cell_type": "code",
   "execution_count": 45,
   "id": "f003587e",
   "metadata": {},
   "outputs": [],
   "source": [
    "lotus_df = data_df[data_df['Make'] == 'Lotus'][['Engine HP', 'Engine Cylinders']]"
   ]
  },
  {
   "cell_type": "code",
   "execution_count": 48,
   "id": "bf54a8c4",
   "metadata": {},
   "outputs": [],
   "source": [
    "lotus_df.drop_duplicates(inplace=True)"
   ]
  },
  {
   "cell_type": "code",
   "execution_count": 51,
   "id": "27314b4e",
   "metadata": {},
   "outputs": [],
   "source": [
    "data_arr = lotus_df.to_numpy()"
   ]
  },
  {
   "cell_type": "code",
   "execution_count": 57,
   "id": "f3f9c287",
   "metadata": {},
   "outputs": [],
   "source": [
    "XTX = np.matmul(data_arr.T, data_arr)"
   ]
  },
  {
   "cell_type": "code",
   "execution_count": 58,
   "id": "5bdab282",
   "metadata": {},
   "outputs": [],
   "source": [
    "XTX_inv = np.linalg.inv(XTX)"
   ]
  },
  {
   "cell_type": "code",
   "execution_count": 61,
   "id": "d2e57c75",
   "metadata": {},
   "outputs": [],
   "source": [
    "y = np.array([1100, 800, 750, 850, 1300, 1000, 1000, 1300, 800])"
   ]
  },
  {
   "cell_type": "code",
   "execution_count": 62,
   "id": "1f4a8669",
   "metadata": {},
   "outputs": [],
   "source": [
    "w = np.matmul(np.matmul(XTX_inv, data_arr.T), y)"
   ]
  },
  {
   "cell_type": "code",
   "execution_count": 64,
   "id": "35f0b0fc",
   "metadata": {},
   "outputs": [
    {
     "data": {
      "text/plain": [
       "4.594944810094551"
      ]
     },
     "execution_count": 64,
     "metadata": {},
     "output_type": "execute_result"
    }
   ],
   "source": [
    "w[0]"
   ]
  }
 ],
 "metadata": {
  "kernelspec": {
   "display_name": "Python 3 (ipykernel)",
   "language": "python",
   "name": "python3"
  },
  "language_info": {
   "codemirror_mode": {
    "name": "ipython",
    "version": 3
   },
   "file_extension": ".py",
   "mimetype": "text/x-python",
   "name": "python",
   "nbconvert_exporter": "python",
   "pygments_lexer": "ipython3",
   "version": "3.10.7"
  }
 },
 "nbformat": 4,
 "nbformat_minor": 5
}
